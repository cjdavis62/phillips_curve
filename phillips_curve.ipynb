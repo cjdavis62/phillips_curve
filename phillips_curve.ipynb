{
 "cells": [
  {
   "cell_type": "code",
   "execution_count": 1,
   "id": "df6702c5-8b73-40ba-b777-985d7a5e1bf3",
   "metadata": {
    "execution": {
     "iopub.execute_input": "2022-04-20T00:17:31.729473Z",
     "iopub.status.busy": "2022-04-20T00:17:31.728477Z",
     "iopub.status.idle": "2022-04-20T00:17:34.180172Z",
     "shell.execute_reply": "2022-04-20T00:17:34.180172Z",
     "shell.execute_reply.started": "2022-04-20T00:17:31.728477Z"
    }
   },
   "outputs": [],
   "source": [
    "from pytrends.request import TrendReq\n",
    "from scipy.stats import linregress\n",
    "import time\n",
    "import openpyxl\n",
    "from openpyxl import load_workbook\n",
    "from datetime import date, datetime\n",
    "import matplotlib.pyplot as plt\n",
    "import matplotlib.dates as mdates\n",
    "import math\n",
    "import pandas as pd\n",
    "from string import ascii_uppercase"
   ]
  },
  {
   "cell_type": "code",
   "execution_count": 2,
   "id": "7920bb3a-4ffb-4e8a-b7e0-5e6932ba3bb0",
   "metadata": {
    "execution": {
     "iopub.execute_input": "2022-04-20T00:17:34.181165Z",
     "iopub.status.busy": "2022-04-20T00:17:34.181165Z",
     "iopub.status.idle": "2022-04-20T00:17:34.195128Z",
     "shell.execute_reply": "2022-04-20T00:17:34.195128Z",
     "shell.execute_reply.started": "2022-04-20T00:17:34.181165Z"
    }
   },
   "outputs": [],
   "source": [
    "from pylab import rcParams\n",
    "rcParams['figure.figsize'] = 20, 10\n",
    "rcParams['font.size'] = 14\n",
    "rcParams['axes.labelsize'] = 16\n",
    "rcParams['axes.labelweight'] = 'bold'"
   ]
  },
  {
   "cell_type": "code",
   "execution_count": 3,
   "id": "8686ab52-578d-4dbb-80db-c2ae5a1db6dc",
   "metadata": {
    "execution": {
     "iopub.execute_input": "2022-04-20T00:17:34.198121Z",
     "iopub.status.busy": "2022-04-20T00:17:34.197135Z",
     "iopub.status.idle": "2022-04-20T00:17:34.491726Z",
     "shell.execute_reply": "2022-04-20T00:17:34.490736Z",
     "shell.execute_reply.started": "2022-04-20T00:17:34.198121Z"
    }
   },
   "outputs": [],
   "source": [
    "#initiate pytrends. docs: https://pypi.org/project/pytrends/\n",
    "pytrends = TrendReq(hl='en-US', tz=360, timeout=(10, 25))"
   ]
  },
  {
   "cell_type": "code",
   "execution_count": 4,
   "id": "ad907cde-63c3-4277-8b15-fde1c3b3d772",
   "metadata": {
    "execution": {
     "iopub.execute_input": "2022-04-20T00:17:34.493719Z",
     "iopub.status.busy": "2022-04-20T00:17:34.493719Z",
     "iopub.status.idle": "2022-04-20T00:17:34.507686Z",
     "shell.execute_reply": "2022-04-20T00:17:34.505687Z",
     "shell.execute_reply.started": "2022-04-20T00:17:34.493719Z"
    }
   },
   "outputs": [],
   "source": [
    "terms = ['inflation', 'unemployment']"
   ]
  },
  {
   "cell_type": "code",
   "execution_count": 5,
   "id": "89651626-7748-419e-a41e-d1571bd06ef8",
   "metadata": {
    "execution": {
     "iopub.execute_input": "2022-04-20T00:17:34.510673Z",
     "iopub.status.busy": "2022-04-20T00:17:34.509681Z",
     "iopub.status.idle": "2022-04-20T00:17:34.522643Z",
     "shell.execute_reply": "2022-04-20T00:17:34.520648Z",
     "shell.execute_reply.started": "2022-04-20T00:17:34.509681Z"
    }
   },
   "outputs": [],
   "source": [
    "volume = [0 for num in range(0,len(terms))]"
   ]
  },
  {
   "cell_type": "code",
   "execution_count": 6,
   "id": "268d9ac9-d64c-4d82-a4c0-c4460e4e7ad4",
   "metadata": {
    "execution": {
     "iopub.execute_input": "2022-04-20T00:17:34.527632Z",
     "iopub.status.busy": "2022-04-20T00:17:34.526631Z",
     "iopub.status.idle": "2022-04-20T00:17:34.536603Z",
     "shell.execute_reply": "2022-04-20T00:17:34.535606Z",
     "shell.execute_reply.started": "2022-04-20T00:17:34.527632Z"
    }
   },
   "outputs": [],
   "source": [
    "def get_trends(terms):\n",
    "    for i in range(0,len(terms)):\n",
    "        if i == 0:\n",
    "            trends = scrape_google(terms[i:i+1])\n",
    "        else:\n",
    "            trends = pd.concat([trends, scrape_google(terms[i:i+1])], axis=1)\n",
    "    return trends"
   ]
  },
  {
   "cell_type": "code",
   "execution_count": 7,
   "id": "13252b04-4f6a-4e9f-9bf8-7303c58cb9dc",
   "metadata": {
    "execution": {
     "iopub.execute_input": "2022-04-20T00:17:58.498619Z",
     "iopub.status.busy": "2022-04-20T00:17:58.498619Z",
     "iopub.status.idle": "2022-04-20T00:17:58.506597Z",
     "shell.execute_reply": "2022-04-20T00:17:58.505626Z",
     "shell.execute_reply.started": "2022-04-20T00:17:58.498619Z"
    }
   },
   "outputs": [],
   "source": [
    "#All categories: https://github.com/pat310/google-trends-api/wiki/Google-Trends-Categories\n",
    "\n",
    "def scrape_google(term):\n",
    "    pytrends.build_payload(term, cat=0, timeframe='2019-01-01 2022-04-01', geo='US', gprop='')\n",
    "    trends = pytrends.interest_over_time()\n",
    "    try:\n",
    "        trends = trends.drop(columns=['isPartial'])\n",
    "    except:\n",
    "        pass\n",
    "    \n",
    "    return trends"
   ]
  },
  {
   "cell_type": "code",
   "execution_count": 8,
   "id": "361a6b2a-7de5-448a-9435-3a202de69027",
   "metadata": {
    "execution": {
     "iopub.execute_input": "2022-04-20T00:17:59.613534Z",
     "iopub.status.busy": "2022-04-20T00:17:59.613534Z",
     "iopub.status.idle": "2022-04-20T00:18:01.698232Z",
     "shell.execute_reply": "2022-04-20T00:18:01.698232Z",
     "shell.execute_reply.started": "2022-04-20T00:17:59.613534Z"
    }
   },
   "outputs": [],
   "source": [
    "trends_df = get_trends(terms)"
   ]
  },
  {
   "cell_type": "code",
   "execution_count": 9,
   "id": "94f1a5b9-20f5-4634-b226-190c8ee41135",
   "metadata": {
    "execution": {
     "iopub.execute_input": "2022-04-20T00:18:01.700253Z",
     "iopub.status.busy": "2022-04-20T00:18:01.700253Z",
     "iopub.status.idle": "2022-04-20T00:18:01.730153Z",
     "shell.execute_reply": "2022-04-20T00:18:01.729270Z",
     "shell.execute_reply.started": "2022-04-20T00:18:01.700253Z"
    }
   },
   "outputs": [
    {
     "data": {
      "text/html": [
       "<div>\n",
       "<style scoped>\n",
       "    .dataframe tbody tr th:only-of-type {\n",
       "        vertical-align: middle;\n",
       "    }\n",
       "\n",
       "    .dataframe tbody tr th {\n",
       "        vertical-align: top;\n",
       "    }\n",
       "\n",
       "    .dataframe thead th {\n",
       "        text-align: right;\n",
       "    }\n",
       "</style>\n",
       "<table border=\"1\" class=\"dataframe\">\n",
       "  <thead>\n",
       "    <tr style=\"text-align: right;\">\n",
       "      <th></th>\n",
       "      <th>inflation</th>\n",
       "      <th>unemployment</th>\n",
       "    </tr>\n",
       "    <tr>\n",
       "      <th>date</th>\n",
       "      <th></th>\n",
       "      <th></th>\n",
       "    </tr>\n",
       "  </thead>\n",
       "  <tbody>\n",
       "    <tr>\n",
       "      <th>2019-01-06</th>\n",
       "      <td>27</td>\n",
       "      <td>6</td>\n",
       "    </tr>\n",
       "    <tr>\n",
       "      <th>2019-01-13</th>\n",
       "      <td>28</td>\n",
       "      <td>5</td>\n",
       "    </tr>\n",
       "    <tr>\n",
       "      <th>2019-01-20</th>\n",
       "      <td>27</td>\n",
       "      <td>6</td>\n",
       "    </tr>\n",
       "    <tr>\n",
       "      <th>2019-01-27</th>\n",
       "      <td>31</td>\n",
       "      <td>5</td>\n",
       "    </tr>\n",
       "    <tr>\n",
       "      <th>2019-02-03</th>\n",
       "      <td>30</td>\n",
       "      <td>5</td>\n",
       "    </tr>\n",
       "    <tr>\n",
       "      <th>...</th>\n",
       "      <td>...</td>\n",
       "      <td>...</td>\n",
       "    </tr>\n",
       "    <tr>\n",
       "      <th>2022-02-27</th>\n",
       "      <td>57</td>\n",
       "      <td>6</td>\n",
       "    </tr>\n",
       "    <tr>\n",
       "      <th>2022-03-06</th>\n",
       "      <td>100</td>\n",
       "      <td>6</td>\n",
       "    </tr>\n",
       "    <tr>\n",
       "      <th>2022-03-13</th>\n",
       "      <td>65</td>\n",
       "      <td>6</td>\n",
       "    </tr>\n",
       "    <tr>\n",
       "      <th>2022-03-20</th>\n",
       "      <td>56</td>\n",
       "      <td>6</td>\n",
       "    </tr>\n",
       "    <tr>\n",
       "      <th>2022-03-27</th>\n",
       "      <td>54</td>\n",
       "      <td>6</td>\n",
       "    </tr>\n",
       "  </tbody>\n",
       "</table>\n",
       "<p>169 rows × 2 columns</p>\n",
       "</div>"
      ],
      "text/plain": [
       "            inflation  unemployment\n",
       "date                               \n",
       "2019-01-06         27             6\n",
       "2019-01-13         28             5\n",
       "2019-01-20         27             6\n",
       "2019-01-27         31             5\n",
       "2019-02-03         30             5\n",
       "...               ...           ...\n",
       "2022-02-27         57             6\n",
       "2022-03-06        100             6\n",
       "2022-03-13         65             6\n",
       "2022-03-20         56             6\n",
       "2022-03-27         54             6\n",
       "\n",
       "[169 rows x 2 columns]"
      ]
     },
     "execution_count": 9,
     "metadata": {},
     "output_type": "execute_result"
    }
   ],
   "source": [
    "trends = trends_df.copy()\n",
    "trends"
   ]
  },
  {
   "cell_type": "code",
   "execution_count": 10,
   "id": "597284f9-1368-4261-9fca-f8189650b71c",
   "metadata": {
    "execution": {
     "iopub.execute_input": "2022-04-20T00:18:01.788118Z",
     "iopub.status.busy": "2022-04-20T00:18:01.787112Z",
     "iopub.status.idle": "2022-04-20T00:18:01.793096Z",
     "shell.execute_reply": "2022-04-20T00:18:01.792126Z",
     "shell.execute_reply.started": "2022-04-20T00:18:01.788118Z"
    }
   },
   "outputs": [],
   "source": [
    "trends = trends.reset_index()"
   ]
  },
  {
   "cell_type": "code",
   "execution_count": 11,
   "id": "7c042ec3-b8a4-4379-b47f-caeb07794387",
   "metadata": {
    "execution": {
     "iopub.execute_input": "2022-04-20T00:18:02.755009Z",
     "iopub.status.busy": "2022-04-20T00:18:02.755009Z",
     "iopub.status.idle": "2022-04-20T00:18:02.769898Z",
     "shell.execute_reply": "2022-04-20T00:18:02.768900Z",
     "shell.execute_reply.started": "2022-04-20T00:18:02.755009Z"
    }
   },
   "outputs": [],
   "source": [
    "trends['year'] = trends.date.apply(lambda x: x.year)\n",
    "trends['month'] = trends.date.apply(lambda x: x.month)\n",
    "trends['yyyy-mm'] = trends.date.apply(lambda x: x.strftime('%Y-%m'))"
   ]
  },
  {
   "cell_type": "code",
   "execution_count": 12,
   "id": "daf82911-dd3e-41a1-8474-5f28e87e85c6",
   "metadata": {
    "execution": {
     "iopub.execute_input": "2022-04-20T00:18:03.871242Z",
     "iopub.status.busy": "2022-04-20T00:18:03.871242Z",
     "iopub.status.idle": "2022-04-20T00:18:03.890221Z",
     "shell.execute_reply": "2022-04-20T00:18:03.890221Z",
     "shell.execute_reply.started": "2022-04-20T00:18:03.871242Z"
    }
   },
   "outputs": [
    {
     "data": {
      "text/html": [
       "<div>\n",
       "<style scoped>\n",
       "    .dataframe tbody tr th:only-of-type {\n",
       "        vertical-align: middle;\n",
       "    }\n",
       "\n",
       "    .dataframe tbody tr th {\n",
       "        vertical-align: top;\n",
       "    }\n",
       "\n",
       "    .dataframe thead th {\n",
       "        text-align: right;\n",
       "    }\n",
       "</style>\n",
       "<table border=\"1\" class=\"dataframe\">\n",
       "  <thead>\n",
       "    <tr style=\"text-align: right;\">\n",
       "      <th></th>\n",
       "      <th>date</th>\n",
       "      <th>inflation</th>\n",
       "      <th>unemployment</th>\n",
       "      <th>year</th>\n",
       "      <th>month</th>\n",
       "      <th>yyyy-mm</th>\n",
       "    </tr>\n",
       "  </thead>\n",
       "  <tbody>\n",
       "    <tr>\n",
       "      <th>0</th>\n",
       "      <td>2019-01-06</td>\n",
       "      <td>27</td>\n",
       "      <td>6</td>\n",
       "      <td>2019</td>\n",
       "      <td>1</td>\n",
       "      <td>2019-01</td>\n",
       "    </tr>\n",
       "    <tr>\n",
       "      <th>1</th>\n",
       "      <td>2019-01-13</td>\n",
       "      <td>28</td>\n",
       "      <td>5</td>\n",
       "      <td>2019</td>\n",
       "      <td>1</td>\n",
       "      <td>2019-01</td>\n",
       "    </tr>\n",
       "    <tr>\n",
       "      <th>2</th>\n",
       "      <td>2019-01-20</td>\n",
       "      <td>27</td>\n",
       "      <td>6</td>\n",
       "      <td>2019</td>\n",
       "      <td>1</td>\n",
       "      <td>2019-01</td>\n",
       "    </tr>\n",
       "    <tr>\n",
       "      <th>3</th>\n",
       "      <td>2019-01-27</td>\n",
       "      <td>31</td>\n",
       "      <td>5</td>\n",
       "      <td>2019</td>\n",
       "      <td>1</td>\n",
       "      <td>2019-01</td>\n",
       "    </tr>\n",
       "    <tr>\n",
       "      <th>4</th>\n",
       "      <td>2019-02-03</td>\n",
       "      <td>30</td>\n",
       "      <td>5</td>\n",
       "      <td>2019</td>\n",
       "      <td>2</td>\n",
       "      <td>2019-02</td>\n",
       "    </tr>\n",
       "    <tr>\n",
       "      <th>...</th>\n",
       "      <td>...</td>\n",
       "      <td>...</td>\n",
       "      <td>...</td>\n",
       "      <td>...</td>\n",
       "      <td>...</td>\n",
       "      <td>...</td>\n",
       "    </tr>\n",
       "    <tr>\n",
       "      <th>164</th>\n",
       "      <td>2022-02-27</td>\n",
       "      <td>57</td>\n",
       "      <td>6</td>\n",
       "      <td>2022</td>\n",
       "      <td>2</td>\n",
       "      <td>2022-02</td>\n",
       "    </tr>\n",
       "    <tr>\n",
       "      <th>165</th>\n",
       "      <td>2022-03-06</td>\n",
       "      <td>100</td>\n",
       "      <td>6</td>\n",
       "      <td>2022</td>\n",
       "      <td>3</td>\n",
       "      <td>2022-03</td>\n",
       "    </tr>\n",
       "    <tr>\n",
       "      <th>166</th>\n",
       "      <td>2022-03-13</td>\n",
       "      <td>65</td>\n",
       "      <td>6</td>\n",
       "      <td>2022</td>\n",
       "      <td>3</td>\n",
       "      <td>2022-03</td>\n",
       "    </tr>\n",
       "    <tr>\n",
       "      <th>167</th>\n",
       "      <td>2022-03-20</td>\n",
       "      <td>56</td>\n",
       "      <td>6</td>\n",
       "      <td>2022</td>\n",
       "      <td>3</td>\n",
       "      <td>2022-03</td>\n",
       "    </tr>\n",
       "    <tr>\n",
       "      <th>168</th>\n",
       "      <td>2022-03-27</td>\n",
       "      <td>54</td>\n",
       "      <td>6</td>\n",
       "      <td>2022</td>\n",
       "      <td>3</td>\n",
       "      <td>2022-03</td>\n",
       "    </tr>\n",
       "  </tbody>\n",
       "</table>\n",
       "<p>169 rows × 6 columns</p>\n",
       "</div>"
      ],
      "text/plain": [
       "          date  inflation  unemployment  year  month  yyyy-mm\n",
       "0   2019-01-06         27             6  2019      1  2019-01\n",
       "1   2019-01-13         28             5  2019      1  2019-01\n",
       "2   2019-01-20         27             6  2019      1  2019-01\n",
       "3   2019-01-27         31             5  2019      1  2019-01\n",
       "4   2019-02-03         30             5  2019      2  2019-02\n",
       "..         ...        ...           ...   ...    ...      ...\n",
       "164 2022-02-27         57             6  2022      2  2022-02\n",
       "165 2022-03-06        100             6  2022      3  2022-03\n",
       "166 2022-03-13         65             6  2022      3  2022-03\n",
       "167 2022-03-20         56             6  2022      3  2022-03\n",
       "168 2022-03-27         54             6  2022      3  2022-03\n",
       "\n",
       "[169 rows x 6 columns]"
      ]
     },
     "execution_count": 12,
     "metadata": {},
     "output_type": "execute_result"
    }
   ],
   "source": [
    "trends"
   ]
  },
  {
   "cell_type": "code",
   "execution_count": 13,
   "id": "229baf7f-b6e2-499c-b7a5-a33a36002587",
   "metadata": {
    "execution": {
     "iopub.execute_input": "2022-04-20T00:18:18.575771Z",
     "iopub.status.busy": "2022-04-20T00:18:18.575771Z",
     "iopub.status.idle": "2022-04-20T00:18:18.599921Z",
     "shell.execute_reply": "2022-04-20T00:18:18.599092Z",
     "shell.execute_reply.started": "2022-04-20T00:18:18.575771Z"
    }
   },
   "outputs": [],
   "source": [
    "trends['matplotlib_time'] = trends['date'].apply(lambda x: mdates.date2num(x))"
   ]
  },
  {
   "cell_type": "code",
   "execution_count": 14,
   "id": "ea944d79-e2ab-4281-ac0f-c9d7bdce10ec",
   "metadata": {
    "execution": {
     "iopub.execute_input": "2022-04-20T00:18:18.858541Z",
     "iopub.status.busy": "2022-04-20T00:18:18.858541Z",
     "iopub.status.idle": "2022-04-20T00:18:19.407399Z",
     "shell.execute_reply": "2022-04-20T00:18:19.407399Z",
     "shell.execute_reply.started": "2022-04-20T00:18:18.858541Z"
    }
   },
   "outputs": [
    {
     "data": {
      "image/png": "[encoded data removed]",
      "text/plain": [
       "<Figure size 1440x720 with 2 Axes>"
      ]
     },
     "metadata": {},
     "output_type": "display_data"
    }
   ],
   "source": [
    "plt.style.use(['dark_background'])\n",
    "fig, ax = plt.subplots()\n",
    "plot = plt.scatter(trends['unemployment'], trends['inflation'], c=trends['matplotlib_time'], cmap='viridis')\n",
    "loc = mdates.AutoDateLocator()\n",
    "cbar = fig.colorbar(plot, ticks=loc, format=mdates.AutoDateFormatter(loc))\n",
    "plt.xlabel('Google Trends for \"unemployment\" [Relative interest]')\n",
    "plt.ylabel('Google Trends for \"inflation\" [Relative interest]')\n",
    "cbar.set_label('Trending Week')\n",
    "plt.savefig('phillips_curve.png', bbox_inches='tight')\n",
    "plt.show()"
   ]
  }
 ],
 "metadata": {
  "kernelspec": {
   "display_name": "Python 3 (ipykernel)",
   "language": "python",
   "name": "python3"
  },
  "language_info": {
   "codemirror_mode": {
    "name": "ipython",
    "version": 3
   },
   "file_extension": ".py",
   "mimetype": "text/x-python",
   "name": "python",
   "nbconvert_exporter": "python",
   "pygments_lexer": "ipython3",
   "version": "3.9.7"
  }
 },
 "nbformat": 4,
 "nbformat_minor": 5
}
